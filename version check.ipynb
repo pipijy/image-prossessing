{
 "cells": [
  {
   "cell_type": "code",
   "execution_count": 4,
   "id": "b9b6be87",
   "metadata": {},
   "outputs": [
    {
     "name": "stdout",
     "output_type": "stream",
     "text": [
      "numpy: 1.25.0\n",
      "scipy: 1.10.1\n",
      "pandas: 1.5.3\n",
      "matplotlib: 3.7.1\n",
      "scikit-learn: 1.2.2\n",
      "scikit-image: 0.20.0\n",
      "pillow: 9.4.0\n"
     ]
    }
   ],
   "source": [
    "# 包版本检查\\python所需要的库\n",
    "\n",
    "# 数据处理\n",
    "import numpy as np #数值计算\n",
    "print('numpy:',np.version.version)\n",
    "import scipy as sp #基于 Numpy 的算法库和数学工具包\n",
    "print('scipy:',sp.version.full_version) # type: ignore\n",
    "import pandas as pd #基于NumPy和scipy 的开源数据分析和数据处理库\n",
    "print('pandas:',pd.__version__)\n",
    "import matplotlib as plt # 2D绘图库\n",
    "print('matplotlib:',plt.__version__) # type: ignore\n",
    "import sklearn as skn #全称为Scikit-learn是一个用于机器学习的库\n",
    "print('scikit-learn:',skn.__version__)\n",
    "\n",
    "# 图像处理\n",
    "import skimage as skm #图像处理库\n",
    "print('scikit-image:',skm.__version__)\n",
    "import PIL as PIL #Python Imaging Library的缩写，是一个用于图像处理的Python库\n",
    "print('pillow:',PIL.__version__)"
   ]
  }
 ],
 "metadata": {
  "kernelspec": {
   "display_name": "Python 3 (ipykernel)",
   "language": "python",
   "name": "python3"
  },
  "language_info": {
   "codemirror_mode": {
    "name": "ipython",
    "version": 3
   },
   "file_extension": ".py",
   "mimetype": "text/x-python",
   "name": "python",
   "nbconvert_exporter": "python",
   "pygments_lexer": "ipython3",
   "version": "3.11.3"
  }
 },
 "nbformat": 4,
 "nbformat_minor": 5
}
